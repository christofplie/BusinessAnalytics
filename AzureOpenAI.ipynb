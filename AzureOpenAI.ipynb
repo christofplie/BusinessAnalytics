{
 "cells": [
  {
   "cell_type": "code",
   "id": "initial_id",
   "metadata": {
    "collapsed": true
   },
   "source": [
    "import os\n",
    "from openai import AzureOpenAI\n",
    "import pandas as pd\n",
    "from concurrent.futures import ThreadPoolExecutor\n"
   ],
   "outputs": [],
   "execution_count": null
  },
  {
   "metadata": {},
   "cell_type": "code",
   "source": [
    "downloads_folder = os.path.expanduser(\"~/Downloads\")\n",
    "file_path = os.path.join(downloads_folder, \"latest_posts_cleaned.csv\")\n",
    "gpt_sentiment_path_csv = os.path.join(downloads_folder, \"gpt_sentiment.csv\")\n",
    "gpt_sentiment_path_xlsx = os.path.join(downloads_folder, \"gpt_sentiment.xlsx\")\n",
    "cleaned_posts = pd.read_csv(file_path)\n",
    "\n",
    "client = AzureOpenAI(\n",
    "  api_key=os.getenv(\"AZURE_OPENAI_API_KEY\"),\n",
    "  azure_endpoint=\"https://oai-bandas-weu.openai.azure.com/\",\n",
    "  api_version=\"2023-03-15-preview\"\n",
    ")"
   ],
   "id": "83ecd4254bf345f9",
   "outputs": [],
   "execution_count": null
  },
  {
   "metadata": {},
   "cell_type": "code",
   "source": [
    "# Function to get sentiment from GPT\n",
    "def get_sentiment_from_gpt(post_content):\n",
    "    try:\n",
    "        response = client.chat.completions.create(\n",
    "            model=\"gpt-4o\",\n",
    "            temperature=0.7,\n",
    "            messages=[\n",
    "                {\"role\": \"system\", \"content\": \"You are an assistant providing numerical sentiment analysis.\"},\n",
    "                {\"role\": \"user\", \"content\": f\"Rate the sentiment of the following text on a scale from -1.000 (very negative) to 1.000 (very positive). Provide only the numerical value, rounded to three decimal places. Do not include any text or explanation. Text: {post_content}\"}\n",
    "            ]\n",
    "        )\n",
    "        sentiment = float(response.choices[0].message.content.strip())\n",
    "        return round (sentiment, 3)\n",
    "    except Exception as e:\n",
    "        print(f\"Error for post: {post_content[:30]}... | {e}\")\n",
    "        return None\n",
    "\n",
    "def classify_sentiment(score):\n",
    "    if score is None:\n",
    "        return \"unknown\"\n",
    "    elif score > 0.05:\n",
    "        return \"positive\"\n",
    "    elif score < -0.05:\n",
    "        return \"negative\"\n",
    "    else:\n",
    "        return \"neutral\"\n",
    "\n",
    "# Parallel processing using ThreadPoolExecutor\n",
    "with ThreadPoolExecutor(max_workers=20) as executor:  # Adjust max_workers as needed\n",
    "    sentiments = list(executor.map(get_sentiment_from_gpt, cleaned_posts['Body']))\n",
    "\n",
    "# Add GPT sentiments to the DataFrame\n",
    "cleaned_posts.loc[:, 'GPT_Sentiment'] = sentiments\n",
    "\n",
    "# Add sentiment category column\n",
    "cleaned_posts['GPT_Sentiment_Category'] = cleaned_posts['GPT_Sentiment'].apply(classify_sentiment)\n",
    "\n",
    "# Save the DataFrame as a CSV file\n",
    "cleaned_posts.to_csv(gpt_sentiment_path_csv, index=False)\n",
    "print(f\"CSV file saved to: {gpt_sentiment_path_csv}\")\n",
    "\n",
    "# Save the DataFrame as an Excel file\n",
    "cleaned_posts.to_excel(gpt_sentiment_path_xlsx, index=False, engine='openpyxl')  # Specify engine for .xlsx files\n",
    "print(f\"Excel file saved to: {gpt_sentiment_path_xlsx}\")"
   ],
   "id": "9a04afa771d49e6b",
   "outputs": [],
   "execution_count": null
  },
  {
   "metadata": {},
   "cell_type": "code",
   "source": "",
   "id": "27a3afd076ec2413",
   "outputs": [],
   "execution_count": null
  }
 ],
 "metadata": {
  "kernelspec": {
   "display_name": "Python 3",
   "language": "python",
   "name": "python3"
  },
  "language_info": {
   "codemirror_mode": {
    "name": "ipython",
    "version": 2
   },
   "file_extension": ".py",
   "mimetype": "text/x-python",
   "name": "python",
   "nbconvert_exporter": "python",
   "pygments_lexer": "ipython2",
   "version": "2.7.6"
  }
 },
 "nbformat": 4,
 "nbformat_minor": 5
}
